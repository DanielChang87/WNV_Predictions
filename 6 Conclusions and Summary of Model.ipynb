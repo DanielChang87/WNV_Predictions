{
 "cells": [
  {
   "cell_type": "markdown",
   "metadata": {},
   "source": [
    "## 1. Summary of Models"
   ]
  },
  {
   "cell_type": "markdown",
   "metadata": {},
   "source": [
    "Several models were tested, and they broadly fall into the following categories:\n",
    "\n",
    "1) CART Models (e.g. Random Forests, Extra Trees, XGBoost)\n",
    "\n",
    "2) Linear Models\n",
    "\n",
    "3) Generalized Additive Models (GAM)\n",
    "\n",
    "An attempt was made to stack the models, but the result was lesser than the sum of its parts - it suffered in terms of both recall score and auc-roc score. As such, we have chosen to omit the bagged model."
   ]
  },
  {
   "cell_type": "markdown",
   "metadata": {},
   "source": [
    "## 2. Feature Strengths"
   ]
  },
  {
   "cell_type": "markdown",
   "metadata": {},
   "source": [
    "1) CART: Month, Week, Bias, SPECIES=CULEX PIPIENS, Tavg (less accurate due to randomness and varies from run to run)\n",
    "\n",
    "2) Logistic Regression: Past week humidity has by far the highest coefficient, followed by SPECIES=CULEX PIPIENS, past 3 days precipitation, and past year precipitation\n",
    "\n",
    "3) GAM: Temperature, Precipitation, drizzles, humidity, length of day, and location to high risk epicentres were key features"
   ]
  },
  {
   "cell_type": "markdown",
   "metadata": {},
   "source": [
    "## 3. Prescriptions"
   ]
  }
 ],
 "metadata": {
  "kernelspec": {
   "display_name": "Python 3",
   "language": "python",
   "name": "python3"
  },
  "language_info": {
   "codemirror_mode": {
    "name": "ipython",
    "version": 3
   },
   "file_extension": ".py",
   "mimetype": "text/x-python",
   "name": "python",
   "nbconvert_exporter": "python",
   "pygments_lexer": "ipython3",
   "version": "3.7.3"
  }
 },
 "nbformat": 4,
 "nbformat_minor": 2
}
